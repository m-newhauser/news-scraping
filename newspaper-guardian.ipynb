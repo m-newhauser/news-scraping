{
 "cells": [
  {
   "cell_type": "code",
   "execution_count": 54,
   "metadata": {},
   "outputs": [],
   "source": [
    "# Imports\n",
    "import requests\n",
    "from bs4 import BeautifulSoup\n",
    "import newspaper\n",
    "from newspaper import fulltext, Article\n",
    "import pandas as pd"
   ]
  },
  {
   "cell_type": "markdown",
   "metadata": {},
   "source": [
    "#### Create a build for a newspaper"
   ]
  },
  {
   "cell_type": "code",
   "execution_count": 3,
   "metadata": {},
   "outputs": [
    {
     "name": "stdout",
     "output_type": "stream",
     "text": [
      "Paper size: 139\n"
     ]
    }
   ],
   "source": [
    "# .build() doesn't download data that has already been downloaded\n",
    "guardian_paper = newspaper.build('https://www.theguardian.com/', memoize=False)\n",
    "\n",
    "print('Paper size: {}'.format(guardian_paper.size()))"
   ]
  },
  {
   "cell_type": "code",
   "execution_count": 51,
   "metadata": {},
   "outputs": [
    {
     "data": {
      "text/plain": [
       "['https://www.theguardian.com/',\n",
       " 'https://discountcode.theguardian.com',\n",
       " 'https://support.theguardian.com',\n",
       " 'https://www.theguardian.com/documentaries',\n",
       " 'https://theguardian.newspapers.com',\n",
       " 'https://workforus.theguardian.com',\n",
       " 'https://www.theguardian.com',\n",
       " 'https://theguardian.com',\n",
       " 'https://manage.theguardian.com',\n",
       " 'https://puzzles.theguardian.com',\n",
       " 'https://www.theguardian.com/video']"
      ]
     },
     "execution_count": 51,
     "metadata": {},
     "output_type": "execute_result"
    }
   ],
   "source": [
    "# Add paper categories to a list\n",
    "guardian_cats = [category for category in guardian_paper.category_urls()]\n",
    "\n",
    "# Print categories\n",
    "guardian_cats #But these aren't actually the news categories so we need to find them"
   ]
  },
  {
   "cell_type": "code",
   "execution_count": null,
   "metadata": {},
   "outputs": [],
   "source": [
    "print(guardian_paper.html)"
   ]
  },
  {
   "cell_type": "markdown",
   "metadata": {},
   "source": [
    "#### Extract a news article"
   ]
  },
  {
   "cell_type": "code",
   "execution_count": 29,
   "metadata": {},
   "outputs": [],
   "source": [
    "# Extract article\n",
    "first_article = guardian_paper.articles[1]\n",
    "\n",
    "# Download article\n",
    "first_article.download()"
   ]
  },
  {
   "cell_type": "code",
   "execution_count": 30,
   "metadata": {},
   "outputs": [],
   "source": [
    "# Parse article\n",
    "first_article.parse()\n",
    "\n",
    "# Print article title and author\n",
    "parsed_dict = {\n",
    "    \"title\": first_article.title,\n",
    "    \"authors\": first_article.authors,\n",
    "    \"date\": first_article.publish_date\n",
    "#     \"full_text\": first_article.text,\n",
    "}"
   ]
  },
  {
   "cell_type": "code",
   "execution_count": 31,
   "metadata": {},
   "outputs": [],
   "source": [
    "# Process the article for NLP info\n",
    "first_article.nlp()\n",
    "\n",
    "# Extract summary and keywords\n",
    "nlp_dict = {\n",
    "    \"summary\": first_article.summary,\n",
    "    \"keywords\": first_article.keywords    \n",
    "}\n",
    "\n",
    "# Add to the main dict\n",
    "parsed_dict.update(nlp_dict)"
   ]
  },
  {
   "cell_type": "code",
   "execution_count": 46,
   "metadata": {},
   "outputs": [
    {
     "data": {
      "text/html": [
       "<div>\n",
       "<style scoped>\n",
       "    .dataframe tbody tr th:only-of-type {\n",
       "        vertical-align: middle;\n",
       "    }\n",
       "\n",
       "    .dataframe tbody tr th {\n",
       "        vertical-align: top;\n",
       "    }\n",
       "\n",
       "    .dataframe thead th {\n",
       "        text-align: right;\n",
       "    }\n",
       "</style>\n",
       "<table border=\"1\" class=\"dataframe\">\n",
       "  <thead>\n",
       "    <tr style=\"text-align: right;\">\n",
       "      <th></th>\n",
       "      <th>title</th>\n",
       "      <th>authors</th>\n",
       "      <th>date</th>\n",
       "      <th>summary</th>\n",
       "      <th>keywords</th>\n",
       "    </tr>\n",
       "  </thead>\n",
       "  <tbody>\n",
       "    <tr>\n",
       "      <th>0</th>\n",
       "      <td>Nearly all Black Lives Matter protests are pea...</td>\n",
       "      <td>[Lois Beckett]</td>\n",
       "      <td>2020-09-05 00:00:00</td>\n",
       "      <td>About a third of the Covid-19 protests were li...</td>\n",
       "      <td>[peaceful, trump, despite, demonstrations, vio...</td>\n",
       "    </tr>\n",
       "  </tbody>\n",
       "</table>\n",
       "</div>"
      ],
      "text/plain": [
       "                                               title         authors  \\\n",
       "0  Nearly all Black Lives Matter protests are pea...  [Lois Beckett]   \n",
       "\n",
       "                  date                                            summary  \\\n",
       "0  2020-09-05 00:00:00  About a third of the Covid-19 protests were li...   \n",
       "\n",
       "                                            keywords  \n",
       "0  [peaceful, trump, despite, demonstrations, vio...  "
      ]
     },
     "execution_count": 46,
     "metadata": {},
     "output_type": "execute_result"
    }
   ],
   "source": [
    "# Put in dataframe\n",
    "df = pd.DataFrame.from_dict(parsed_dict, orient='index').transpose()"
   ]
  },
  {
   "cell_type": "markdown",
   "metadata": {},
   "source": [
    "#### Extract all articles in a category"
   ]
  },
  {
   "cell_type": "code",
   "execution_count": 50,
   "metadata": {},
   "outputs": [
    {
     "data": {
      "text/plain": [
       "['https://www.theguardian.com/',\n",
       " 'https://discountcode.theguardian.com',\n",
       " 'https://support.theguardian.com',\n",
       " 'https://www.theguardian.com/documentaries',\n",
       " 'https://theguardian.newspapers.com',\n",
       " 'https://workforus.theguardian.com',\n",
       " 'https://www.theguardian.com',\n",
       " 'https://theguardian.com',\n",
       " 'https://manage.theguardian.com',\n",
       " 'https://puzzles.theguardian.com',\n",
       " 'https://www.theguardian.com/video']"
      ]
     },
     "execution_count": 50,
     "metadata": {},
     "output_type": "execute_result"
    }
   ],
   "source": [
    "guardian_cats"
   ]
  },
  {
   "cell_type": "code",
   "execution_count": 52,
   "metadata": {},
   "outputs": [],
   "source": [
    "target_cat = 'https://www.theguardian.com/'"
   ]
  },
  {
   "cell_type": "code",
   "execution_count": null,
   "metadata": {},
   "outputs": [],
   "source": [
    "# # Search GitHub's repositories for requests\n",
    "# response = requests.get(\n",
    "#     'https://content.guardianapis.com/sections',\n",
    "#     params={'api-key': '950224a0-3997-4d10-af5b-6d8b02eb1330'},\n",
    "# )\n",
    "\n",
    "# guardian_sections = response.json()\n",
    "\n",
    "results = guardian_sections['response']['results']\n",
    "\n",
    "guardian_cats = [result['id'] for result in results]\n",
    "\n",
    "# https://open-platform.theguardian.com/documentation/section"
   ]
  },
  {
   "cell_type": "code",
   "execution_count": null,
   "metadata": {},
   "outputs": [],
   "source": [
    "for category in guardian_paper.category_urls():\n",
    "    cat_paper = newspaper.build(category)\n",
    "    print(cat_paper.articles) #Gives all articles of category\n",
    "    for article in cat_paper.articles:\n",
    "        print(article.url) #prints URL for all articles in given category"
   ]
  },
  {
   "cell_type": "code",
   "execution_count": 56,
   "metadata": {},
   "outputs": [],
   "source": [
    "article = Article(target_cat, )"
   ]
  },
  {
   "cell_type": "code",
   "execution_count": 57,
   "metadata": {},
   "outputs": [],
   "source": [
    "article.download()"
   ]
  },
  {
   "cell_type": "code",
   "execution_count": 58,
   "metadata": {},
   "outputs": [],
   "source": [
    "article.parse()"
   ]
  },
  {
   "cell_type": "code",
   "execution_count": 59,
   "metadata": {},
   "outputs": [
    {
     "data": {
      "text/plain": [
       "['Austin Sarat',\n",
       " 'Dennis Aftergut',\n",
       " 'Arwa Mahdawi',\n",
       " 'Jack Delaney',\n",
       " 'Marisa Franco',\n",
       " 'Moira Donegan',\n",
       " 'Stefan Stern',\n",
       " 'Kevin Mitchell']"
      ]
     },
     "execution_count": 59,
     "metadata": {},
     "output_type": "execute_result"
    }
   ],
   "source": [
    "article.authors"
   ]
  },
  {
   "cell_type": "code",
   "execution_count": 60,
   "metadata": {},
   "outputs": [
    {
     "ename": "TypeError",
     "evalue": "object of type 'Article' has no len()",
     "output_type": "error",
     "traceback": [
      "\u001b[0;31m---------------------------------------------------------------------------\u001b[0m",
      "\u001b[0;31mTypeError\u001b[0m                                 Traceback (most recent call last)",
      "\u001b[0;32m<ipython-input-60-fe90e058f92e>\u001b[0m in \u001b[0;36m<module>\u001b[0;34m\u001b[0m\n\u001b[0;32m----> 1\u001b[0;31m \u001b[0mlen\u001b[0m\u001b[0;34m(\u001b[0m\u001b[0marticle\u001b[0m\u001b[0;34m)\u001b[0m\u001b[0;34m\u001b[0m\u001b[0m\n\u001b[0m",
      "\u001b[0;31mTypeError\u001b[0m: object of type 'Article' has no len()"
     ]
    }
   ],
   "source": [
    "len(article)"
   ]
  },
  {
   "cell_type": "code",
   "execution_count": null,
   "metadata": {},
   "outputs": [],
   "source": []
  }
 ],
 "metadata": {
  "kernelspec": {
   "display_name": "Python 3",
   "language": "python",
   "name": "python3"
  },
  "language_info": {
   "codemirror_mode": {
    "name": "ipython",
    "version": 3
   },
   "file_extension": ".py",
   "mimetype": "text/x-python",
   "name": "python",
   "nbconvert_exporter": "python",
   "pygments_lexer": "ipython3",
   "version": "3.6.6"
  }
 },
 "nbformat": 4,
 "nbformat_minor": 4
}
