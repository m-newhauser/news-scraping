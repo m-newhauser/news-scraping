{
 "cells": [
  {
   "cell_type": "markdown",
   "metadata": {},
   "source": [
    "### Imports"
   ]
  },
  {
   "cell_type": "code",
   "execution_count": 1,
   "metadata": {},
   "outputs": [],
   "source": [
    "# Imports\n",
    "import requests\n",
    "import pandas as pd\n",
    "import os\n",
    "import tempfile\n",
    "import glob\n",
    "\n",
    "import newspaper\n",
    "from newspaper import fulltext, Article\n",
    "\n",
    "from sqlalchemy.engine.url import URL\n",
    "from sqlalchemy import create_engine\n",
    "\n",
    "from bs4 import BeautifulSoup\n",
    "from dotenv import load_dotenv\n",
    "import html5lib"
   ]
  },
  {
   "cell_type": "markdown",
   "metadata": {},
   "source": [
    "### Functions"
   ]
  },
  {
   "cell_type": "code",
   "execution_count": 3,
   "metadata": {},
   "outputs": [],
   "source": [
    "def make_soup(url):\n",
    "    page = requests.get(url) \n",
    "    soup = BeautifulSoup(page.content, 'html.parser')\n",
    "    return soup"
   ]
  },
  {
   "cell_type": "markdown",
   "metadata": {},
   "source": [
    "### Connect to PostgreSQL"
   ]
  },
  {
   "cell_type": "code",
   "execution_count": 2,
   "metadata": {},
   "outputs": [],
   "source": [
    "# # Load .env file\n",
    "# load_dotenv('.env')\n",
    "\n",
    "# # Get credentials from .env\n",
    "# config = dict(\n",
    "#     drivername='postgres',\n",
    "#     username=os.getenv(\"USERNAME\"),\n",
    "#     password=os.getenv(\"PASSWORD\"),\n",
    "#     host=os.getenv(\"HOST\"),\n",
    "#     database=os.getenv(\"DATABASE\")\n",
    "# )\n",
    "\n",
    "# # Create the connection string\n",
    "# url = URL(**config)\n",
    "# print(url)\n",
    "\n",
    "# # Create the engine\n",
    "# engine = create_engine(url)"
   ]
  },
  {
   "cell_type": "markdown",
   "metadata": {},
   "source": [
    "### Get news categories"
   ]
  },
  {
   "cell_type": "code",
   "execution_count": 4,
   "metadata": {},
   "outputs": [],
   "source": [
    "# Make soup\n",
    "website_url = 'https://foxnews.com'\n",
    "soup = make_soup(website_url)"
   ]
  },
  {
   "cell_type": "code",
   "execution_count": 5,
   "metadata": {},
   "outputs": [],
   "source": [
    "# Extract navigation items\n",
    "nav_items = soup.find_all(\"li\", class_=\"nav-item\")"
   ]
  },
  {
   "cell_type": "code",
   "execution_count": 6,
   "metadata": {},
   "outputs": [],
   "source": [
    "# Construct empty list\n",
    "news_categories = []\n",
    "\n",
    "# Extract category name and url for each category\n",
    "for item in nav_items:\n",
    "    output = dict(category = item.text,\n",
    "                  url = item.find_all('a')[0].get('href'))\n",
    "    news_categories.append(output)\n",
    "    \n",
    "# Place in a dataframe (and drop duplicate categories)\n",
    "news_categories = pd.DataFrame(news_categories)\n",
    "\n",
    "# Write to dataframe\n",
    "news_categories.to_csv('data/news-categories-fox.csv', index=False)"
   ]
  },
  {
   "cell_type": "markdown",
   "metadata": {},
   "source": [
    "### Get political article URLs"
   ]
  },
  {
   "cell_type": "code",
   "execution_count": 7,
   "metadata": {},
   "outputs": [],
   "source": [
    "# # Get political news only\n",
    "# category = 'Politics'\n",
    "\n",
    "# # Extract url for political news\n",
    "# category_url = news_categories.loc[news_categories['category'] == category, 'url'].item()"
   ]
  },
  {
   "cell_type": "code",
   "execution_count": 8,
   "metadata": {},
   "outputs": [],
   "source": [
    "# Manually set category url for politics\n",
    "category_url = 'https://www.foxnews.com/politics'\n",
    "soup = make_soup(category_url)"
   ]
  },
  {
   "cell_type": "code",
   "execution_count": 9,
   "metadata": {},
   "outputs": [],
   "source": [
    "# Make list of all article items\n",
    "article_items = soup.find_all(\"article\")"
   ]
  },
  {
   "cell_type": "code",
   "execution_count": 10,
   "metadata": {},
   "outputs": [],
   "source": [
    "# Extract category name and url for each category\n",
    "articles = []\n",
    "for item in article_items:\n",
    "    if 'video.' not in item.find_all('a')[0].get('href'):\n",
    "        output = dict(headline = item.text,\n",
    "                      url = website_url + item.find_all('a')[0].get('href'))\n",
    "        articles.append(output)"
   ]
  },
  {
   "cell_type": "code",
   "execution_count": 11,
   "metadata": {},
   "outputs": [],
   "source": [
    "# Write to dataframe\n",
    "pd.DataFrame(articles).to_csv('data/article-urls-fox.csv', index=False)"
   ]
  },
  {
   "cell_type": "markdown",
   "metadata": {},
   "source": [
    "### Full text articles"
   ]
  },
  {
   "cell_type": "code",
   "execution_count": 12,
   "metadata": {},
   "outputs": [],
   "source": [
    "# full_texts = []\n",
    "\n",
    "# for a in articles[0:4]:\n",
    "#     page = requests.get(a['url'])\n",
    "#     soup = BeautifulSoup(page.content, 'html.parser')\n",
    "# #     full_text = soup.find_all('article')[0].text #This line is wrong\n",
    "#     full_texts.append(full_text)"
   ]
  },
  {
   "cell_type": "markdown",
   "metadata": {},
   "source": [
    "#### The following works for one specific article"
   ]
  },
  {
   "cell_type": "code",
   "execution_count": 177,
   "metadata": {},
   "outputs": [],
   "source": [
    "# 'https://foxnews.com/politics/texas-bishop-backs-up-priest-who-said-catholic-democrats-should-repent-or-face-the-fires-of-hell'"
   ]
  },
  {
   "cell_type": "code",
   "execution_count": 231,
   "metadata": {},
   "outputs": [],
   "source": [
    "soup = make_soup(articles[3]['url'])"
   ]
  },
  {
   "cell_type": "code",
   "execution_count": 234,
   "metadata": {},
   "outputs": [
    {
     "data": {
      "text/plain": [
       "'DNI defends scaling back in-person briefings on election security, citing potential for leaks; reaction and analysis on \\'Outnumbered.\\' The House Intelligence Committee received a whistleblower complaint claiming Trump administration officials at the White House and the Department of Homeland Security suppressed intelligence reports related to Russian election interference, Democratic Committee Chairman Adam Schiff said Wednesday. In a statement, Schiff said former Intelligence and Analysis Acting Under Secretary Brian Murphy filed the whistleblower reprisal complaint on Tuesday with the DHS Office of Inspector General. “We’ve received a whistleblower complaint alleging DHS suppressed intel reports on Russian election interference, altered intel to match false Trump claims and made false statements to Congress,” Schiff, D-Calif., tweeted Wednesday afternoon. “This puts our national security at risk.” He added: “We will investigate.” Schiff said that the investigation will come as part of the panel’s probe into alleged “grave” misconduct by White House and DHS officials, and the reprisal against\\xa0Murphy for making protected disclosures. “The whistleblower retaliation complaint filed by former Acting Under Secretary for Intelligence and Analysis Brian Murphy outlines grave and disturbing allegations that senior White House and Department of Homeland Security officials improperly sought to politicize, manipulate, and censor intelligence in order to benefit President Trump politically,” Schiff said in a statement. “This puts our nation and its security at grave risk.” Republicans swiftly pushed back against Schiff, who played a prominent role in promoting the account of a whistleblower at the heart of Trump\\'s impeachment case. “Yet another whistleblower complaint pushed into the limelight by Schiff, this one coming shortly before a presidential election - anyone who takes this at face value is ignoring Schiff’s long record of perpetuating hoaxes that are extremely similar to this,” a House Republican source told Fox News. The committee, though,\\xa0claims the whistleblower complaint includes a “disturbing pattern of misconduct” by senior Trump administration officials “relating to the activities of DHS’s I&A—an element of the U.S. Intelligence Community which Mr. Murphy led from May until August of this year, before he was reassigned to DHS’s Management Directorate, and where he previously served as Principal Deputy Under Secretary beginning in March 2018.” \"The complaint alleges repeated violations of law and regulations, abuses of authority, attempted censorship of intelligence analysis, and improper administration of an intelligence program related to Russian efforts to influence the U.S. elections,” the committee said. Schiff went on to call Murphy’s allegations “serious,” saying they include senior administration officials allegedly “suppressing intelligence reports on Russia’s election interference and making false statements to Congress about terrorism threats at our southern border, to modifying intelligence assessments to match the president’s rhetoric on Antifa and minimizing the threat posed by white supremacists.” \"We have requested Mr. Murphy’s testimony before the Committee, pursuant to subpoena if necessary, alongside other already scheduled interviews with other DHS officials,” Schiff said. INTEL COMMUNITY SAYS IRAN SEEKING TO \\'UNDERMINE\\' TRUMP, RUSSIA WORKING TO \\'DENIGRATE\\' BIDEN IN ELECTION\\xa0 Schiff went on to slam the Trump administration for ending briefings to Congress about foreign election interference, claiming it was a “bid to prevent informing the American people and its elected representatives about Russian efforts to help President Trump and hurt Joe Biden.” The Office of the Director of National Intelligence announced last month that it would\\xa0scale back\\xa0in-person election security briefings to Congress\\xa0in favor of written reports\\xa0-- amid concerns about leaks of sensitive information. An ODNI official told Fox News the office is concerned about \"unauthorized disclosures of sensitive information\\xa0following recent briefings.\" Schiff, though, claimed that the administration was blocking the American people from information that would “protect our national security.” “We will get to the bottom of this, expose any and all misconduct or corruption to the American people, and put a stop to the politicization of intelligence,” Schiff said. Fox News\\' Mike Emanuel contributed to this report.\\xa0 Get all the stories you need-to-know from the most powerful name in news delivered first thing every morning to your inbox Subscribed You\\'ve successfully subscribed to this newsletter!'"
      ]
     },
     "execution_count": 234,
     "metadata": {},
     "output_type": "execute_result"
    }
   ],
   "source": [
    "# Get all <p>'s that contain sentences from the article\n",
    "# sentences = soup.article.find_all('div')[7].contents[0].contents[0].find_all('p')\n",
    "sentences = soup.article.find_all('p')\n",
    "\n",
    "# Remove <p>'s that are random links to other articles\n",
    "sentences = [sent for sent in sentences if '<p><a href' not in str(sent)]\n",
    "\n",
    "# Extract the text from all the <p>'s'\n",
    "sentences = [sent.text for sent in sentences]\n",
    "\n",
    "# Join all individual sentences\n",
    "full_text = ' '.join(sentences)\n",
    "\n",
    "full_text"
   ]
  },
  {
   "cell_type": "code",
   "execution_count": 213,
   "metadata": {},
   "outputs": [
    {
     "data": {
      "text/plain": [
       "\"Nick Searcy discusses new documentary 'America, America, God Shed His Grace on Thee' | Fox News\""
      ]
     },
     "execution_count": 213,
     "metadata": {},
     "output_type": "execute_result"
    }
   ],
   "source": [
    "# But this isn't the title...\n",
    "title = soup.title.string\n",
    "title"
   ]
  },
  {
   "cell_type": "code",
   "execution_count": null,
   "metadata": {},
   "outputs": [],
   "source": []
  }
 ],
 "metadata": {
  "kernelspec": {
   "display_name": "Python 3",
   "language": "python",
   "name": "python3"
  },
  "language_info": {
   "codemirror_mode": {
    "name": "ipython",
    "version": 3
   },
   "file_extension": ".py",
   "mimetype": "text/x-python",
   "name": "python",
   "nbconvert_exporter": "python",
   "pygments_lexer": "ipython3",
   "version": "3.6.6"
  }
 },
 "nbformat": 4,
 "nbformat_minor": 4
}
