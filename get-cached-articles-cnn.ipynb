{
 "cells": [
  {
   "cell_type": "code",
   "execution_count": null,
   "metadata": {},
   "outputs": [],
   "source": [
    "# Process memoized/cached content"
   ]
  },
  {
   "cell_type": "code",
   "execution_count": 1,
   "metadata": {},
   "outputs": [],
   "source": [
    "import os\n",
    "import tempfile\n",
    "import newspaper\n",
    "import pandas as pd\n",
    "\n",
    "from newspaper import fulltext, Article\n",
    "from urllib.parse import urlparse"
   ]
  },
  {
   "cell_type": "code",
   "execution_count": 2,
   "metadata": {},
   "outputs": [
    {
     "data": {
      "text/plain": [
       "['cnn.com.txt']"
      ]
     },
     "execution_count": 2,
     "metadata": {},
     "output_type": "execute_result"
    }
   ],
   "source": [
    "# Get path for 'memoized' (cached) articles\n",
    "cached_article_path = os.path.join(tempfile.gettempdir(), '.newspaper_scraper', 'memoized')\n",
    "\n",
    "# List files\n",
    "os.listdir(cached_article_path)"
   ]
  },
  {
   "cell_type": "code",
   "execution_count": 3,
   "metadata": {},
   "outputs": [],
   "source": [
    "# Load only political articles\n",
    "content = []\n",
    "with open(os.path.join(cached_article_path, 'cnn.com.txt'), \"r\") as f:\n",
    "    for line in f.readlines():\n",
    "        if 'politics' in line:\n",
    "            content.append(line)"
   ]
  },
  {
   "cell_type": "code",
   "execution_count": 4,
   "metadata": {
    "jupyter": {
     "source_hidden": true
    }
   },
   "outputs": [],
   "source": [
    "# Remove erroneous non-CNN articles\n",
    "final_content = []\n",
    "for url in content:\n",
    "    if 'cnn.com' in urlparse(url).netloc:\n",
    "        final_content.append(url.strip())"
   ]
  },
  {
   "cell_type": "code",
   "execution_count": 5,
   "metadata": {},
   "outputs": [],
   "source": [
    "article_objects = []\n",
    "for url in final_content:\n",
    "    article = Article(url)\n",
    "    article_objects.append(article)"
   ]
  },
  {
   "cell_type": "code",
   "execution_count": 7,
   "metadata": {},
   "outputs": [],
   "source": [
    "def process_cnn_articles(articles):\n",
    "    metadata = []\n",
    "    for article in articles:\n",
    "        # Download and parse articles\n",
    "        article.download()\n",
    "        article.parse()\n",
    "        # Only fetch articles with authors\n",
    "        if len(article.authors) > 0:\n",
    "            # Add metadata to dictionary\n",
    "            parsed_dict = {\n",
    "                \"title\": article.title,\n",
    "                \"authors\": article.authors,\n",
    "                \"date\": article.publish_date,\n",
    "                \"full_text\": article.text,\n",
    "            }\n",
    "            # Perform NLP to get more metadata\n",
    "            article.nlp()\n",
    "            nlp_dict = {\n",
    "                \"summary\": article.summary,\n",
    "                \"keywords\": article.keywords    \n",
    "            }\n",
    "            # Append NLP metadata to main dictionary\n",
    "            parsed_dict.update(nlp_dict)\n",
    "            # Append dictionary to list\n",
    "            metadata.append(parsed_dict)\n",
    "    print('Fetched metadata for {} CNN articles'.format(len(metadata)))\n",
    "    return metadata"
   ]
  },
  {
   "cell_type": "code",
   "execution_count": 8,
   "metadata": {},
   "outputs": [
    {
     "name": "stdout",
     "output_type": "stream",
     "text": [
      "Fetched metadata for 14 CNN articles\n"
     ]
    }
   ],
   "source": [
    "cnn_metadata = process_cnn_articles(article_objects)"
   ]
  },
  {
   "cell_type": "code",
   "execution_count": 9,
   "metadata": {},
   "outputs": [],
   "source": [
    "# Transform list to dataframe\n",
    "cnn_df = pd.DataFrame(cnn_metadata)"
   ]
  },
  {
   "cell_type": "code",
   "execution_count": 10,
   "metadata": {},
   "outputs": [
    {
     "ename": "NameError",
     "evalue": "name 'engine' is not defined",
     "output_type": "error",
     "traceback": [
      "\u001b[0;31m---------------------------------------------------------------------------\u001b[0m",
      "\u001b[0;31mNameError\u001b[0m                                 Traceback (most recent call last)",
      "\u001b[0;32m<ipython-input-10-044892ee9952>\u001b[0m in \u001b[0;36m<module>\u001b[0;34m\u001b[0m\n\u001b[1;32m      1\u001b[0m \u001b[0;31m# Write to PostgreSQL\u001b[0m\u001b[0;34m\u001b[0m\u001b[0;34m\u001b[0m\u001b[0m\n\u001b[0;32m----> 2\u001b[0;31m \u001b[0mcnn_df\u001b[0m\u001b[0;34m.\u001b[0m\u001b[0mto_sql\u001b[0m\u001b[0;34m(\u001b[0m\u001b[0;34m'news_politics'\u001b[0m\u001b[0;34m,\u001b[0m \u001b[0mengine\u001b[0m\u001b[0;34m,\u001b[0m \u001b[0mif_exists\u001b[0m\u001b[0;34m=\u001b[0m\u001b[0;34m'append'\u001b[0m\u001b[0;34m)\u001b[0m\u001b[0;34m\u001b[0m\u001b[0m\n\u001b[0m",
      "\u001b[0;31mNameError\u001b[0m: name 'engine' is not defined"
     ]
    }
   ],
   "source": [
    "# Write to PostgreSQL\n",
    "cnn_df.to_sql('news_politics', engine, if_exists='append')"
   ]
  }
 ],
 "metadata": {
  "kernelspec": {
   "display_name": "Python 3",
   "language": "python",
   "name": "python3"
  },
  "language_info": {
   "codemirror_mode": {
    "name": "ipython",
    "version": 3
   },
   "file_extension": ".py",
   "mimetype": "text/x-python",
   "name": "python",
   "nbconvert_exporter": "python",
   "pygments_lexer": "ipython3",
   "version": "3.6.6"
  }
 },
 "nbformat": 4,
 "nbformat_minor": 4
}
